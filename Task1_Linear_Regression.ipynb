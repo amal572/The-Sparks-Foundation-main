{
  "nbformat": 4,
  "nbformat_minor": 0,
  "metadata": {
    "colab": {
      "provenance": [],
      "collapsed_sections": [],
      "toc_visible": true
    },
    "kernelspec": {
      "name": "python3",
      "display_name": "Python 3"
    }
  },
  "cells": [
    {
      "metadata": {
        "id": "GzfdMfk10NE6"
      },
      "cell_type": "markdown",
      "source": [
        "## **Linear Regression with Python Scikit Learn**\n",
        "In this section we will see how the Python Scikit-Learn library for machine learning can be used to implement regression functions. We will start with simple linear regression involving two variables.\n",
        "\n",
        "### **Simple Linear Regression**\n",
        "In this regression task we will predict the percentage of marks that a student is expected to score based upon the number of hours they studied. This is a simple linear regression task as it involves just two variables."
      ]
    },
    {
      "metadata": {
        "id": "X6A8Hm86UUZ-"
      },
      "cell_type": "markdown",
      "source": [
        "### Author: Xaltius Pte. Ltd.\n",
        "Copyright Xaltius Pte. Ltd., 2018\n",
        "\n",
        "**Not for distribution.**"
      ]
    },
    {
      "metadata": {
        "id": "V9QN2ZxC38pB"
      },
      "cell_type": "code",
      "source": [
        "# Importing all libraries required in this notebook\n",
        "import pandas as pd\n",
        "import numpy as np  \n",
        "import matplotlib.pyplot as plt  \n",
        "from sklearn.linear_model import Lasso\n",
        "%matplotlib inline"
      ],
      "execution_count": 17,
      "outputs": []
    },
    {
      "metadata": {
        "id": "LtU4YMEhqm9m",
        "outputId": "fbe9ee97-88fc-414b-dc48-88de28e526e7",
        "colab": {
          "base_uri": "https://localhost:8080/",
          "height": 380
        }
      },
      "cell_type": "code",
      "source": [
        "# Reading data from remote link\n",
        "url = \"http://bit.ly/w-data\"\n",
        "s_data = pd.read_csv(url)\n",
        "print(\"Data imported successfully\")\n",
        "\n",
        "s_data.head(10)"
      ],
      "execution_count": 2,
      "outputs": [
        {
          "output_type": "stream",
          "name": "stdout",
          "text": [
            "Data imported successfully\n"
          ]
        },
        {
          "output_type": "execute_result",
          "data": {
            "text/plain": [
              "   Hours  Scores\n",
              "0    2.5      21\n",
              "1    5.1      47\n",
              "2    3.2      27\n",
              "3    8.5      75\n",
              "4    3.5      30\n",
              "5    1.5      20\n",
              "6    9.2      88\n",
              "7    5.5      60\n",
              "8    8.3      81\n",
              "9    2.7      25"
            ],
            "text/html": [
              "\n",
              "  <div id=\"df-df4c5c25-982f-4e4e-8fd3-632daba71ddb\">\n",
              "    <div class=\"colab-df-container\">\n",
              "      <div>\n",
              "<style scoped>\n",
              "    .dataframe tbody tr th:only-of-type {\n",
              "        vertical-align: middle;\n",
              "    }\n",
              "\n",
              "    .dataframe tbody tr th {\n",
              "        vertical-align: top;\n",
              "    }\n",
              "\n",
              "    .dataframe thead th {\n",
              "        text-align: right;\n",
              "    }\n",
              "</style>\n",
              "<table border=\"1\" class=\"dataframe\">\n",
              "  <thead>\n",
              "    <tr style=\"text-align: right;\">\n",
              "      <th></th>\n",
              "      <th>Hours</th>\n",
              "      <th>Scores</th>\n",
              "    </tr>\n",
              "  </thead>\n",
              "  <tbody>\n",
              "    <tr>\n",
              "      <th>0</th>\n",
              "      <td>2.5</td>\n",
              "      <td>21</td>\n",
              "    </tr>\n",
              "    <tr>\n",
              "      <th>1</th>\n",
              "      <td>5.1</td>\n",
              "      <td>47</td>\n",
              "    </tr>\n",
              "    <tr>\n",
              "      <th>2</th>\n",
              "      <td>3.2</td>\n",
              "      <td>27</td>\n",
              "    </tr>\n",
              "    <tr>\n",
              "      <th>3</th>\n",
              "      <td>8.5</td>\n",
              "      <td>75</td>\n",
              "    </tr>\n",
              "    <tr>\n",
              "      <th>4</th>\n",
              "      <td>3.5</td>\n",
              "      <td>30</td>\n",
              "    </tr>\n",
              "    <tr>\n",
              "      <th>5</th>\n",
              "      <td>1.5</td>\n",
              "      <td>20</td>\n",
              "    </tr>\n",
              "    <tr>\n",
              "      <th>6</th>\n",
              "      <td>9.2</td>\n",
              "      <td>88</td>\n",
              "    </tr>\n",
              "    <tr>\n",
              "      <th>7</th>\n",
              "      <td>5.5</td>\n",
              "      <td>60</td>\n",
              "    </tr>\n",
              "    <tr>\n",
              "      <th>8</th>\n",
              "      <td>8.3</td>\n",
              "      <td>81</td>\n",
              "    </tr>\n",
              "    <tr>\n",
              "      <th>9</th>\n",
              "      <td>2.7</td>\n",
              "      <td>25</td>\n",
              "    </tr>\n",
              "  </tbody>\n",
              "</table>\n",
              "</div>\n",
              "      <button class=\"colab-df-convert\" onclick=\"convertToInteractive('df-df4c5c25-982f-4e4e-8fd3-632daba71ddb')\"\n",
              "              title=\"Convert this dataframe to an interactive table.\"\n",
              "              style=\"display:none;\">\n",
              "        \n",
              "  <svg xmlns=\"http://www.w3.org/2000/svg\" height=\"24px\"viewBox=\"0 0 24 24\"\n",
              "       width=\"24px\">\n",
              "    <path d=\"M0 0h24v24H0V0z\" fill=\"none\"/>\n",
              "    <path d=\"M18.56 5.44l.94 2.06.94-2.06 2.06-.94-2.06-.94-.94-2.06-.94 2.06-2.06.94zm-11 1L8.5 8.5l.94-2.06 2.06-.94-2.06-.94L8.5 2.5l-.94 2.06-2.06.94zm10 10l.94 2.06.94-2.06 2.06-.94-2.06-.94-.94-2.06-.94 2.06-2.06.94z\"/><path d=\"M17.41 7.96l-1.37-1.37c-.4-.4-.92-.59-1.43-.59-.52 0-1.04.2-1.43.59L10.3 9.45l-7.72 7.72c-.78.78-.78 2.05 0 2.83L4 21.41c.39.39.9.59 1.41.59.51 0 1.02-.2 1.41-.59l7.78-7.78 2.81-2.81c.8-.78.8-2.07 0-2.86zM5.41 20L4 18.59l7.72-7.72 1.47 1.35L5.41 20z\"/>\n",
              "  </svg>\n",
              "      </button>\n",
              "      \n",
              "  <style>\n",
              "    .colab-df-container {\n",
              "      display:flex;\n",
              "      flex-wrap:wrap;\n",
              "      gap: 12px;\n",
              "    }\n",
              "\n",
              "    .colab-df-convert {\n",
              "      background-color: #E8F0FE;\n",
              "      border: none;\n",
              "      border-radius: 50%;\n",
              "      cursor: pointer;\n",
              "      display: none;\n",
              "      fill: #1967D2;\n",
              "      height: 32px;\n",
              "      padding: 0 0 0 0;\n",
              "      width: 32px;\n",
              "    }\n",
              "\n",
              "    .colab-df-convert:hover {\n",
              "      background-color: #E2EBFA;\n",
              "      box-shadow: 0px 1px 2px rgba(60, 64, 67, 0.3), 0px 1px 3px 1px rgba(60, 64, 67, 0.15);\n",
              "      fill: #174EA6;\n",
              "    }\n",
              "\n",
              "    [theme=dark] .colab-df-convert {\n",
              "      background-color: #3B4455;\n",
              "      fill: #D2E3FC;\n",
              "    }\n",
              "\n",
              "    [theme=dark] .colab-df-convert:hover {\n",
              "      background-color: #434B5C;\n",
              "      box-shadow: 0px 1px 3px 1px rgba(0, 0, 0, 0.15);\n",
              "      filter: drop-shadow(0px 1px 2px rgba(0, 0, 0, 0.3));\n",
              "      fill: #FFFFFF;\n",
              "    }\n",
              "  </style>\n",
              "\n",
              "      <script>\n",
              "        const buttonEl =\n",
              "          document.querySelector('#df-df4c5c25-982f-4e4e-8fd3-632daba71ddb button.colab-df-convert');\n",
              "        buttonEl.style.display =\n",
              "          google.colab.kernel.accessAllowed ? 'block' : 'none';\n",
              "\n",
              "        async function convertToInteractive(key) {\n",
              "          const element = document.querySelector('#df-df4c5c25-982f-4e4e-8fd3-632daba71ddb');\n",
              "          const dataTable =\n",
              "            await google.colab.kernel.invokeFunction('convertToInteractive',\n",
              "                                                     [key], {});\n",
              "          if (!dataTable) return;\n",
              "\n",
              "          const docLinkHtml = 'Like what you see? Visit the ' +\n",
              "            '<a target=\"_blank\" href=https://colab.research.google.com/notebooks/data_table.ipynb>data table notebook</a>'\n",
              "            + ' to learn more about interactive tables.';\n",
              "          element.innerHTML = '';\n",
              "          dataTable['output_type'] = 'display_data';\n",
              "          await google.colab.output.renderOutput(dataTable, element);\n",
              "          const docLink = document.createElement('div');\n",
              "          docLink.innerHTML = docLinkHtml;\n",
              "          element.appendChild(docLink);\n",
              "        }\n",
              "      </script>\n",
              "    </div>\n",
              "  </div>\n",
              "  "
            ]
          },
          "metadata": {},
          "execution_count": 2
        }
      ]
    },
    {
      "metadata": {
        "id": "RHsPneuM4NgB"
      },
      "cell_type": "markdown",
      "source": [
        "Let's plot our data points on 2-D graph to eyeball our dataset and see if we can manually find any relationship between the data. We can create the plot with the following script:"
      ]
    },
    {
      "metadata": {
        "id": "qxYBZkhAqpn9",
        "outputId": "7563a6fb-a2fe-40e9-933f-cc346d569739",
        "colab": {
          "base_uri": "https://localhost:8080/",
          "height": 295
        }
      },
      "cell_type": "code",
      "source": [
        "# Plotting the distribution of scores\n",
        "s_data.plot(x='Hours', y='Scores', style='o')  \n",
        "plt.title('Hours vs Percentage')  \n",
        "plt.xlabel('Hours Studied')  \n",
        "plt.ylabel('Percentage Score')  \n",
        "plt.show()"
      ],
      "execution_count": 3,
      "outputs": [
        {
          "output_type": "display_data",
          "data": {
            "text/plain": [
              "<Figure size 432x288 with 1 Axes>"
            ],
            "image/png": "[encoded data removed]"
          },
          "metadata": {
            "needs_background": "light"
          }
        }
      ]
    },
    {
      "cell_type": "markdown",
      "source": [
        "**From the graph above, we can clearly see that there is a positive linear relation between the number of hours studied and percentage of score.**"
      ],
      "metadata": {
        "id": "yUJE-8y0RMTP"
      }
    },
    {
      "cell_type": "code",
      "source": [
        "s_data.describe()"
      ],
      "metadata": {
        "colab": {
          "base_uri": "https://localhost:8080/",
          "height": 300
        },
        "id": "exJh-GH_REG4",
        "outputId": "5ffb5730-1276-4f7b-feca-fcf07b99e5b1"
      },
      "execution_count": 4,
      "outputs": [
        {
          "output_type": "execute_result",
          "data": {
            "text/plain": [
              "           Hours     Scores\n",
              "count  25.000000  25.000000\n",
              "mean    5.012000  51.480000\n",
              "std     2.525094  25.286887\n",
              "min     1.100000  17.000000\n",
              "25%     2.700000  30.000000\n",
              "50%     4.800000  47.000000\n",
              "75%     7.400000  75.000000\n",
              "max     9.200000  95.000000"
            ],
            "text/html": [
              "\n",
              "  <div id=\"df-b64c7d2f-73be-41f1-849b-a07be40083ba\">\n",
              "    <div class=\"colab-df-container\">\n",
              "      <div>\n",
              "<style scoped>\n",
              "    .dataframe tbody tr th:only-of-type {\n",
              "        vertical-align: middle;\n",
              "    }\n",
              "\n",
              "    .dataframe tbody tr th {\n",
              "        vertical-align: top;\n",
              "    }\n",
              "\n",
              "    .dataframe thead th {\n",
              "        text-align: right;\n",
              "    }\n",
              "</style>\n",
              "<table border=\"1\" class=\"dataframe\">\n",
              "  <thead>\n",
              "    <tr style=\"text-align: right;\">\n",
              "      <th></th>\n",
              "      <th>Hours</th>\n",
              "      <th>Scores</th>\n",
              "    </tr>\n",
              "  </thead>\n",
              "  <tbody>\n",
              "    <tr>\n",
              "      <th>count</th>\n",
              "      <td>25.000000</td>\n",
              "      <td>25.000000</td>\n",
              "    </tr>\n",
              "    <tr>\n",
              "      <th>mean</th>\n",
              "      <td>5.012000</td>\n",
              "      <td>51.480000</td>\n",
              "    </tr>\n",
              "    <tr>\n",
              "      <th>std</th>\n",
              "      <td>2.525094</td>\n",
              "      <td>25.286887</td>\n",
              "    </tr>\n",
              "    <tr>\n",
              "      <th>min</th>\n",
              "      <td>1.100000</td>\n",
              "      <td>17.000000</td>\n",
              "    </tr>\n",
              "    <tr>\n",
              "      <th>25%</th>\n",
              "      <td>2.700000</td>\n",
              "      <td>30.000000</td>\n",
              "    </tr>\n",
              "    <tr>\n",
              "      <th>50%</th>\n",
              "      <td>4.800000</td>\n",
              "      <td>47.000000</td>\n",
              "    </tr>\n",
              "    <tr>\n",
              "      <th>75%</th>\n",
              "      <td>7.400000</td>\n",
              "      <td>75.000000</td>\n",
              "    </tr>\n",
              "    <tr>\n",
              "      <th>max</th>\n",
              "      <td>9.200000</td>\n",
              "      <td>95.000000</td>\n",
              "    </tr>\n",
              "  </tbody>\n",
              "</table>\n",
              "</div>\n",
              "      <button class=\"colab-df-convert\" onclick=\"convertToInteractive('df-b64c7d2f-73be-41f1-849b-a07be40083ba')\"\n",
              "              title=\"Convert this dataframe to an interactive table.\"\n",
              "              style=\"display:none;\">\n",
              "        \n",
              "  <svg xmlns=\"http://www.w3.org/2000/svg\" height=\"24px\"viewBox=\"0 0 24 24\"\n",
              "       width=\"24px\">\n",
              "    <path d=\"M0 0h24v24H0V0z\" fill=\"none\"/>\n",
              "    <path d=\"M18.56 5.44l.94 2.06.94-2.06 2.06-.94-2.06-.94-.94-2.06-.94 2.06-2.06.94zm-11 1L8.5 8.5l.94-2.06 2.06-.94-2.06-.94L8.5 2.5l-.94 2.06-2.06.94zm10 10l.94 2.06.94-2.06 2.06-.94-2.06-.94-.94-2.06-.94 2.06-2.06.94z\"/><path d=\"M17.41 7.96l-1.37-1.37c-.4-.4-.92-.59-1.43-.59-.52 0-1.04.2-1.43.59L10.3 9.45l-7.72 7.72c-.78.78-.78 2.05 0 2.83L4 21.41c.39.39.9.59 1.41.59.51 0 1.02-.2 1.41-.59l7.78-7.78 2.81-2.81c.8-.78.8-2.07 0-2.86zM5.41 20L4 18.59l7.72-7.72 1.47 1.35L5.41 20z\"/>\n",
              "  </svg>\n",
              "      </button>\n",
              "      \n",
              "  <style>\n",
              "    .colab-df-container {\n",
              "      display:flex;\n",
              "      flex-wrap:wrap;\n",
              "      gap: 12px;\n",
              "    }\n",
              "\n",
              "    .colab-df-convert {\n",
              "      background-color: #E8F0FE;\n",
              "      border: none;\n",
              "      border-radius: 50%;\n",
              "      cursor: pointer;\n",
              "      display: none;\n",
              "      fill: #1967D2;\n",
              "      height: 32px;\n",
              "      padding: 0 0 0 0;\n",
              "      width: 32px;\n",
              "    }\n",
              "\n",
              "    .colab-df-convert:hover {\n",
              "      background-color: #E2EBFA;\n",
              "      box-shadow: 0px 1px 2px rgba(60, 64, 67, 0.3), 0px 1px 3px 1px rgba(60, 64, 67, 0.15);\n",
              "      fill: #174EA6;\n",
              "    }\n",
              "\n",
              "    [theme=dark] .colab-df-convert {\n",
              "      background-color: #3B4455;\n",
              "      fill: #D2E3FC;\n",
              "    }\n",
              "\n",
              "    [theme=dark] .colab-df-convert:hover {\n",
              "      background-color: #434B5C;\n",
              "      box-shadow: 0px 1px 3px 1px rgba(0, 0, 0, 0.15);\n",
              "      filter: drop-shadow(0px 1px 2px rgba(0, 0, 0, 0.3));\n",
              "      fill: #FFFFFF;\n",
              "    }\n",
              "  </style>\n",
              "\n",
              "      <script>\n",
              "        const buttonEl =\n",
              "          document.querySelector('#df-b64c7d2f-73be-41f1-849b-a07be40083ba button.colab-df-convert');\n",
              "        buttonEl.style.display =\n",
              "          google.colab.kernel.accessAllowed ? 'block' : 'none';\n",
              "\n",
              "        async function convertToInteractive(key) {\n",
              "          const element = document.querySelector('#df-b64c7d2f-73be-41f1-849b-a07be40083ba');\n",
              "          const dataTable =\n",
              "            await google.colab.kernel.invokeFunction('convertToInteractive',\n",
              "                                                     [key], {});\n",
              "          if (!dataTable) return;\n",
              "\n",
              "          const docLinkHtml = 'Like what you see? Visit the ' +\n",
              "            '<a target=\"_blank\" href=https://colab.research.google.com/notebooks/data_table.ipynb>data table notebook</a>'\n",
              "            + ' to learn more about interactive tables.';\n",
              "          element.innerHTML = '';\n",
              "          dataTable['output_type'] = 'display_data';\n",
              "          await google.colab.output.renderOutput(dataTable, element);\n",
              "          const docLink = document.createElement('div');\n",
              "          docLink.innerHTML = docLinkHtml;\n",
              "          element.appendChild(docLink);\n",
              "        }\n",
              "      </script>\n",
              "    </div>\n",
              "  </div>\n",
              "  "
            ]
          },
          "metadata": {},
          "execution_count": 4
        }
      ]
    },
    {
      "cell_type": "code",
      "source": [
        "corr_matrix = s_data.corr()\n",
        "corr_matrix[\"Scores\"].sort_values(ascending=False)"
      ],
      "metadata": {
        "colab": {
          "base_uri": "https://localhost:8080/"
        },
        "id": "dqoCzMOuPfib",
        "outputId": "1c0ad53d-bbf6-4215-b8c2-979627eba972"
      },
      "execution_count": 5,
      "outputs": [
        {
          "output_type": "execute_result",
          "data": {
            "text/plain": [
              "Scores    1.000000\n",
              "Hours     0.976191\n",
              "Name: Scores, dtype: float64"
            ]
          },
          "metadata": {},
          "execution_count": 5
        }
      ]
    },
    {
      "cell_type": "code",
      "source": [
        "s_data.hist(bins = 40, figsize = (5,5))\n",
        "plt.show()"
      ],
      "metadata": {
        "colab": {
          "base_uri": "https://localhost:8080/",
          "height": 336
        },
        "id": "mH-ZM-hJP_lL",
        "outputId": "62b3f788-b61c-4db6-e85c-cc1982e423ea"
      },
      "execution_count": 6,
      "outputs": [
        {
          "output_type": "display_data",
          "data": {
            "text/plain": [
              "<Figure size 360x360 with 2 Axes>"
            ],
            "image/png": "[encoded data removed]"
          },
          "metadata": {
            "needs_background": "light"
          }
        }
      ]
    },
    {
      "cell_type": "code",
      "source": [
        "import seaborn as sns\n",
        "# Plot the correlation with seaborn\n",
        "plt.subplots(figsize = (5, 5))\n",
        "sns.heatmap(corr_matrix, annot = True)\n",
        "plt.show()"
      ],
      "metadata": {
        "colab": {
          "base_uri": "https://localhost:8080/",
          "height": 324
        },
        "id": "xgLfnd2sQR3K",
        "outputId": "c06e7dc3-ac36-43d7-972f-1627287719f0"
      },
      "execution_count": 7,
      "outputs": [
        {
          "output_type": "display_data",
          "data": {
            "text/plain": [
              "<Figure size 360x360 with 2 Axes>"
            ],
            "image/png": "[encoded data removed]"
          },
          "metadata": {
            "needs_background": "light"
          }
        }
      ]
    },
    {
      "cell_type": "markdown",
      "source": [
        "**There are big correlation between the Hourse and Scores .**"
      ],
      "metadata": {
        "id": "oR5yGAsfU6q6"
      }
    },
    {
      "cell_type": "code",
      "source": [
        "s_data.isna().sum()"
      ],
      "metadata": {
        "colab": {
          "base_uri": "https://localhost:8080/"
        },
        "id": "udhh8lEbQml0",
        "outputId": "7bf2aa16-df68-418c-fbc1-82e4756e7f51"
      },
      "execution_count": 8,
      "outputs": [
        {
          "output_type": "execute_result",
          "data": {
            "text/plain": [
              "Hours     0\n",
              "Scores    0\n",
              "dtype: int64"
            ]
          },
          "metadata": {},
          "execution_count": 8
        }
      ]
    },
    {
      "cell_type": "code",
      "source": [
        "#Checking for duplicate records in the data\n",
        "dups = s_data .duplicated()\n",
        "print('Number of duplicate rows = %d' % (dups.sum()))\n",
        "print(s_data .shape)"
      ],
      "metadata": {
        "colab": {
          "base_uri": "https://localhost:8080/"
        },
        "id": "lCnVr47qQwOB",
        "outputId": "4706aafc-548e-4cd9-e29c-c6ea254b2feb"
      },
      "execution_count": 9,
      "outputs": [
        {
          "output_type": "stream",
          "name": "stdout",
          "text": [
            "Number of duplicate rows = 0\n",
            "(25, 2)\n"
          ]
        }
      ]
    },
    {
      "metadata": {
        "id": "WWtEr64M4jdz"
      },
      "cell_type": "markdown",
      "source": [
        "### **Preparing the data**\n",
        "\n",
        "The next step is to divide the data into \"attributes\" (inputs) and \"labels\" (outputs)."
      ]
    },
    {
      "metadata": {
        "id": "LiJ5210e4tNX"
      },
      "cell_type": "code",
      "source": [
        "X = s_data.iloc[:, :-1].values  \n",
        "y = s_data.iloc[:, 1].values  "
      ],
      "execution_count": 10,
      "outputs": []
    },
    {
      "metadata": {
        "id": "Riz-ZiZ34fO4"
      },
      "cell_type": "markdown",
      "source": [
        "Now that we have our attributes and labels, the next step is to split this data into training and test sets. We'll do this by using Scikit-Learn's built-in train_test_split() method:"
      ]
    },
    {
      "metadata": {
        "id": "udFYso1M4BNw"
      },
      "cell_type": "code",
      "source": [
        "from sklearn.model_selection import train_test_split  \n",
        "X_train, X_test, y_train, y_test = train_test_split(X, y, \n",
        "                            test_size=0.2, random_state=0) "
      ],
      "execution_count": 11,
      "outputs": []
    },
    {
      "metadata": {
        "id": "a6WXptFU5CkC"
      },
      "cell_type": "markdown",
      "source": [
        "### **Training the Algorithm**\n",
        "We have split our data into training and testing sets, and now is finally the time to train our algorithm. "
      ]
    },
    {
      "metadata": {
        "id": "qddCuaS84fpK",
        "outputId": "f0c26a33-bf42-4317-d884-cf15b4a8e48f",
        "colab": {
          "base_uri": "https://localhost:8080/"
        }
      },
      "cell_type": "code",
      "source": [
        "from sklearn.linear_model import LinearRegression  \n",
        "regressor = LinearRegression()  \n",
        "regressor.fit(X_train, y_train) \n",
        "\n",
        "print(\"Training complete.\")"
      ],
      "execution_count": 12,
      "outputs": [
        {
          "output_type": "stream",
          "name": "stdout",
          "text": [
            "Training complete.\n"
          ]
        }
      ]
    },
    {
      "metadata": {
        "id": "J61NX2_2-px7",
        "outputId": "f74e616a-2d9f-4e19-96a8-356ae4353c61",
        "colab": {
          "base_uri": "https://localhost:8080/",
          "height": 265
        }
      },
      "cell_type": "code",
      "source": [
        "# Plotting the regression line\n",
        "line = regressor.coef_*X+regressor.intercept_\n",
        "\n",
        "# Plotting for the test data\n",
        "plt.scatter(X, y)\n",
        "plt.plot(X, line);\n",
        "plt.show()"
      ],
      "execution_count": 13,
      "outputs": [
        {
          "output_type": "display_data",
          "data": {
            "text/plain": [
              "<Figure size 432x288 with 1 Axes>"
            ],
            "image/png": "[encoded data removed]"
          },
          "metadata": {
            "needs_background": "light"
          }
        }
      ]
    },
    {
      "metadata": {
        "id": "JCQn-g4m5OK2"
      },
      "cell_type": "markdown",
      "source": [
        "### **Making Predictions**\n",
        "Now that we have trained our algorithm, it's time to make some predictions."
      ]
    },
    {
      "metadata": {
        "id": "Tt-Fmzu55EGM",
        "outputId": "a3071391-6daf-4037-c458-8b744929d3bc",
        "colab": {
          "base_uri": "https://localhost:8080/"
        }
      },
      "cell_type": "code",
      "source": [
        "print(X_test) # Testing data - In Hours\n",
        "y_pred = regressor.predict(X_test) # Predicting the scores"
      ],
      "execution_count": 14,
      "outputs": [
        {
          "output_type": "stream",
          "name": "stdout",
          "text": [
            "[[1.5]\n",
            " [3.2]\n",
            " [7.4]\n",
            " [2.5]\n",
            " [5.9]]\n"
          ]
        }
      ]
    },
    {
      "metadata": {
        "id": "6bmZUMZh5QLb",
        "outputId": "5be4ee9c-2395-47ab-c2e7-66fc9f6cffe7",
        "colab": {
          "base_uri": "https://localhost:8080/",
          "height": 206
        }
      },
      "cell_type": "code",
      "source": [
        "# Comparing Actual vs Predicted\n",
        "df = pd.DataFrame({'Actual': y_test, 'Predicted': y_pred})  \n",
        "df "
      ],
      "execution_count": 15,
      "outputs": [
        {
          "output_type": "execute_result",
          "data": {
            "text/plain": [
              "   Actual  Predicted\n",
              "0      20  16.884145\n",
              "1      27  33.732261\n",
              "2      69  75.357018\n",
              "3      30  26.794801\n",
              "4      62  60.491033"
            ],
            "text/html": [
              "\n",
              "  <div id=\"df-1f1e82b2-c9f9-4b09-9f3c-7f319c06c21a\">\n",
              "    <div class=\"colab-df-container\">\n",
              "      <div>\n",
              "<style scoped>\n",
              "    .dataframe tbody tr th:only-of-type {\n",
              "        vertical-align: middle;\n",
              "    }\n",
              "\n",
              "    .dataframe tbody tr th {\n",
              "        vertical-align: top;\n",
              "    }\n",
              "\n",
              "    .dataframe thead th {\n",
              "        text-align: right;\n",
              "    }\n",
              "</style>\n",
              "<table border=\"1\" class=\"dataframe\">\n",
              "  <thead>\n",
              "    <tr style=\"text-align: right;\">\n",
              "      <th></th>\n",
              "      <th>Actual</th>\n",
              "      <th>Predicted</th>\n",
              "    </tr>\n",
              "  </thead>\n",
              "  <tbody>\n",
              "    <tr>\n",
              "      <th>0</th>\n",
              "      <td>20</td>\n",
              "      <td>16.884145</td>\n",
              "    </tr>\n",
              "    <tr>\n",
              "      <th>1</th>\n",
              "      <td>27</td>\n",
              "      <td>33.732261</td>\n",
              "    </tr>\n",
              "    <tr>\n",
              "      <th>2</th>\n",
              "      <td>69</td>\n",
              "      <td>75.357018</td>\n",
              "    </tr>\n",
              "    <tr>\n",
              "      <th>3</th>\n",
              "      <td>30</td>\n",
              "      <td>26.794801</td>\n",
              "    </tr>\n",
              "    <tr>\n",
              "      <th>4</th>\n",
              "      <td>62</td>\n",
              "      <td>60.491033</td>\n",
              "    </tr>\n",
              "  </tbody>\n",
              "</table>\n",
              "</div>\n",
              "      <button class=\"colab-df-convert\" onclick=\"convertToInteractive('df-1f1e82b2-c9f9-4b09-9f3c-7f319c06c21a')\"\n",
              "              title=\"Convert this dataframe to an interactive table.\"\n",
              "              style=\"display:none;\">\n",
              "        \n",
              "  <svg xmlns=\"http://www.w3.org/2000/svg\" height=\"24px\"viewBox=\"0 0 24 24\"\n",
              "       width=\"24px\">\n",
              "    <path d=\"M0 0h24v24H0V0z\" fill=\"none\"/>\n",
              "    <path d=\"M18.56 5.44l.94 2.06.94-2.06 2.06-.94-2.06-.94-.94-2.06-.94 2.06-2.06.94zm-11 1L8.5 8.5l.94-2.06 2.06-.94-2.06-.94L8.5 2.5l-.94 2.06-2.06.94zm10 10l.94 2.06.94-2.06 2.06-.94-2.06-.94-.94-2.06-.94 2.06-2.06.94z\"/><path d=\"M17.41 7.96l-1.37-1.37c-.4-.4-.92-.59-1.43-.59-.52 0-1.04.2-1.43.59L10.3 9.45l-7.72 7.72c-.78.78-.78 2.05 0 2.83L4 21.41c.39.39.9.59 1.41.59.51 0 1.02-.2 1.41-.59l7.78-7.78 2.81-2.81c.8-.78.8-2.07 0-2.86zM5.41 20L4 18.59l7.72-7.72 1.47 1.35L5.41 20z\"/>\n",
              "  </svg>\n",
              "      </button>\n",
              "      \n",
              "  <style>\n",
              "    .colab-df-container {\n",
              "      display:flex;\n",
              "      flex-wrap:wrap;\n",
              "      gap: 12px;\n",
              "    }\n",
              "\n",
              "    .colab-df-convert {\n",
              "      background-color: #E8F0FE;\n",
              "      border: none;\n",
              "      border-radius: 50%;\n",
              "      cursor: pointer;\n",
              "      display: none;\n",
              "      fill: #1967D2;\n",
              "      height: 32px;\n",
              "      padding: 0 0 0 0;\n",
              "      width: 32px;\n",
              "    }\n",
              "\n",
              "    .colab-df-convert:hover {\n",
              "      background-color: #E2EBFA;\n",
              "      box-shadow: 0px 1px 2px rgba(60, 64, 67, 0.3), 0px 1px 3px 1px rgba(60, 64, 67, 0.15);\n",
              "      fill: #174EA6;\n",
              "    }\n",
              "\n",
              "    [theme=dark] .colab-df-convert {\n",
              "      background-color: #3B4455;\n",
              "      fill: #D2E3FC;\n",
              "    }\n",
              "\n",
              "    [theme=dark] .colab-df-convert:hover {\n",
              "      background-color: #434B5C;\n",
              "      box-shadow: 0px 1px 3px 1px rgba(0, 0, 0, 0.15);\n",
              "      filter: drop-shadow(0px 1px 2px rgba(0, 0, 0, 0.3));\n",
              "      fill: #FFFFFF;\n",
              "    }\n",
              "  </style>\n",
              "\n",
              "      <script>\n",
              "        const buttonEl =\n",
              "          document.querySelector('#df-1f1e82b2-c9f9-4b09-9f3c-7f319c06c21a button.colab-df-convert');\n",
              "        buttonEl.style.display =\n",
              "          google.colab.kernel.accessAllowed ? 'block' : 'none';\n",
              "\n",
              "        async function convertToInteractive(key) {\n",
              "          const element = document.querySelector('#df-1f1e82b2-c9f9-4b09-9f3c-7f319c06c21a');\n",
              "          const dataTable =\n",
              "            await google.colab.kernel.invokeFunction('convertToInteractive',\n",
              "                                                     [key], {});\n",
              "          if (!dataTable) return;\n",
              "\n",
              "          const docLinkHtml = 'Like what you see? Visit the ' +\n",
              "            '<a target=\"_blank\" href=https://colab.research.google.com/notebooks/data_table.ipynb>data table notebook</a>'\n",
              "            + ' to learn more about interactive tables.';\n",
              "          element.innerHTML = '';\n",
              "          dataTable['output_type'] = 'display_data';\n",
              "          await google.colab.output.renderOutput(dataTable, element);\n",
              "          const docLink = document.createElement('div');\n",
              "          docLink.innerHTML = docLinkHtml;\n",
              "          element.appendChild(docLink);\n",
              "        }\n",
              "      </script>\n",
              "    </div>\n",
              "  </div>\n",
              "  "
            ]
          },
          "metadata": {},
          "execution_count": 15
        }
      ]
    },
    {
      "metadata": {
        "id": "KAFO8zbx-AH1",
        "outputId": "e08e7483-93f1-41a8-fb04-b77e50613427",
        "colab": {
          "base_uri": "https://localhost:8080/"
        }
      },
      "cell_type": "code",
      "source": [
        "# You can also test with your own data\n",
        "hours = 9.25\n",
        "\n",
        "own_pred = regressor.predict([[hours]])\n",
        "print(\"No of Hours = {}\".format(hours))\n",
        "print(\"Predicted Score = {}\".format(own_pred[0]))"
      ],
      "execution_count": 16,
      "outputs": [
        {
          "output_type": "stream",
          "name": "stdout",
          "text": [
            "No of Hours = 9.25\n",
            "Predicted Score = 93.69173248737539\n"
          ]
        }
      ]
    },
    {
      "metadata": {
        "id": "0AAsPVA_6KmK"
      },
      "cell_type": "markdown",
      "source": [
        "### **Evaluating the model**\n",
        "\n",
        "The final step is to evaluate the performance of algorithm. This step is particularly important to compare how well different algorithms perform on a particular dataset. For simplicity here, we have chosen the mean square error. There are many such metrics."
      ]
    },
    {
      "metadata": {
        "id": "r5UOrRH-5VCQ",
        "outputId": "6bbcef4a-3321-4e51-c74c-b4d0476d44a9",
        "colab": {
          "base_uri": "https://localhost:8080/"
        }
      },
      "cell_type": "code",
      "source": [
        "from sklearn import metrics  \n",
        "print('Mean Absolute Error:', \n",
        "      metrics.mean_absolute_error(y_test, y_pred)) "
      ],
      "execution_count": null,
      "outputs": [
        {
          "output_type": "stream",
          "name": "stdout",
          "text": [
            "Mean Absolute Error: 4.183859899002982\n"
          ]
        }
      ]
    },
    {
      "cell_type": "markdown",
      "source": [
        "### Lasso regression\n",
        "Lasso regression is a form of regularized linear regression that uses an **L1 regularization** penalty for training \n",
        "\n",
        "L1 penalty: Minimize the sum of the absolute values of the coefficients\n",
        "![lasso.PNG](data:image/png;base64,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)"
      ],
      "metadata": {
        "id": "jMOX7yUyrwvb"
      }
    },
    {
      "cell_type": "code",
      "source": [
        "linlasso = Lasso(alpha=5.0, max_iter = 10000).fit(X_train, y_train)\n",
        "r2_train = linlasso.score(X_train, y_train)\n",
        "r2_test = linlasso.score(X_test, y_test)"
      ],
      "metadata": {
        "id": "1HdHAz9-R7Aj"
      },
      "execution_count": 18,
      "outputs": []
    },
    {
      "cell_type": "code",
      "source": [
        "# Plotting the regression line\n",
        "line = linlasso.coef_*X+linlasso.intercept_\n",
        "\n",
        "# Plotting for the test data\n",
        "plt.scatter(X, y)\n",
        "plt.plot(X, line ,color='red');\n",
        "plt.show()"
      ],
      "metadata": {
        "colab": {
          "base_uri": "https://localhost:8080/",
          "height": 265
        },
        "id": "N6xhc1ZPwExi",
        "outputId": "bb0eb441-82a8-43b0-a073-0ffec6a3d9be"
      },
      "execution_count": 19,
      "outputs": [
        {
          "output_type": "display_data",
          "data": {
            "text/plain": [
              "<Figure size 432x288 with 1 Axes>"
            ],
            "image/png": "[encoded data removed]"
          },
          "metadata": {
            "needs_background": "light"
          }
        }
      ]
    },
    {
      "cell_type": "code",
      "source": [
        "y_pred =  linlasso.predict(X_test) # Predicting the scores"
      ],
      "metadata": {
        "id": "oXVr97qswH_D"
      },
      "execution_count": 20,
      "outputs": []
    },
    {
      "cell_type": "code",
      "source": [
        "from sklearn import metrics  \n",
        "print('Mean Absolute Error:', \n",
        "      metrics.mean_absolute_error(y_test, y_pred)) "
      ],
      "metadata": {
        "colab": {
          "base_uri": "https://localhost:8080/"
        },
        "id": "T_6Su4O-wMiz",
        "outputId": "3f308352-2584-47ce-eaea-22c536849006"
      },
      "execution_count": 21,
      "outputs": [
        {
          "output_type": "stream",
          "name": "stdout",
          "text": [
            "Mean Absolute Error: 3.2224459406966233\n"
          ]
        }
      ]
    },
    {
      "cell_type": "markdown",
      "source": [
        "the error is less than the regression model"
      ],
      "metadata": {
        "id": "o9c3VZT1yTZb"
      }
    },
    {
      "cell_type": "code",
      "source": [
        "# You can also test with your own data\n",
        "hours = 9.25\n",
        "\n",
        "own_pred = linlasso.predict([[hours]])\n",
        "print(\"No of Hours = {}\".format(hours))\n",
        "print(\"Predicted Score = {}\".format(own_pred[0]))"
      ],
      "metadata": {
        "colab": {
          "base_uri": "https://localhost:8080/"
        },
        "id": "HQQrwZlbx6wS",
        "outputId": "1113fcd6-08f3-47f2-8212-9d1ab6f440b6"
      },
      "execution_count": 22,
      "outputs": [
        {
          "output_type": "stream",
          "name": "stdout",
          "text": [
            "No of Hours = 9.25\n",
            "Predicted Score = 90.4465557425871\n"
          ]
        }
      ]
    }
  ]
}